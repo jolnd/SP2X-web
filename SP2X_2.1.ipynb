{
 "cells": [
  {
   "cell_type": "code",
   "execution_count": null,
   "metadata": {},
   "outputs": [],
   "source": []
  },
  {
   "cell_type": "code",
   "execution_count": 44,
   "metadata": {},
   "outputs": [],
   "source": [
    "import pandas as pd\n",
    "import numpy as np\n",
    "from matplotlib import pyplot as plt\n",
    "from itertools import combinations\n",
    "\n",
    "#todo: fix smooth rainfall missing entries \n",
    "start = 366\n",
    "end = 911\n",
    "\n",
    "class Source: \n",
    "    def __init__(self, name, data, is_daily, s_type, capex, opex, rententate):\n",
    "\n",
    "        self.name = name\n",
    "        self.data = data      \n",
    "        self.is_daily = is_daily\n",
    "        self.s_type = s_type\n",
    "        self.capex = capex\n",
    "        self.opex = opex\n",
    "        self.rententate = rententate\n",
    "        \n",
    "        self.reservoir_size = None\n",
    "        self.reservoir_history = None    \n",
    "        \n",
    "        \n",
    "    \n",
    "class Pool:\n",
    "    def __init__(self, source_list):\n",
    "            \n",
    "        self.source_list = source_list\n",
    "\n",
    "        self.names = ''.join(s.name for s in self.source_list)\n",
    "\n",
    "        self.reservoir_size = None\n",
    "        self.reservoir_history = None\n",
    "        self.capex = None\n",
    "        self.opex = None\n",
    "        self.rententate = None\n",
    "        self.amounts = None\n",
    "        \n",
    "        \n",
    "    def get_data(self):\n",
    "        if self.amounts == None:\n",
    "            slist = self.source_list\n",
    "\n",
    "            s0 = slist.pop()                  \n",
    "            self.amounts = s0.data\n",
    "\n",
    "            while slist:\n",
    "                s = slist.pop()\n",
    "                self.amounts += s.data\n",
    "\n",
    "        return self.amounts\n",
    "        \n",
    "class SP2X:\n",
    "    def __init__(self, gen_cap, water_2_x, retention_fac, cap_fac, buffer): \n",
    "\n",
    "        self.gen_cap = gen_cap\n",
    "        self.water_2_x = water_2_x\n",
    "        self.retention_fac = retention_fac\n",
    "        self.cap_fac = cap_fac\n",
    "        self.buffer = buffer         \n",
    "        \n",
    "        self.water_need = None\n",
    "        #TODO: fix hardcode\n",
    "        self.water_need = self.p2x_need()\n",
    "\n",
    "    def p2x_need(self):\n",
    "        need = []     \n",
    "        for _ in range(100000):\n",
    "            mWh = 24 * (self.cap_fac / 100) * self.gen_cap;\n",
    "            need.append(self.water_2_x * mWh / self.retention_fac)\n",
    "        return need\n",
    "\n",
    "    def analyse(self, s):\n",
    "        \n",
    "        data = s.get_data()\n",
    "        balance = self.water_balance(data)\n",
    "        volume = np.zeros(len(data))\n",
    "        capacity = 0 \n",
    "        volume[start-1] = capacity \n",
    "        reservoirRatio = []\n",
    "        isSatisfied = False\n",
    "\n",
    "        while not (isSatisfied or capacity == -1):\n",
    "            capacity += 100\n",
    "            for x in range(start, len(data)):\n",
    "\n",
    "                volume[x] = volume[x-1] + balance[x]\n",
    "\n",
    "                #reservoir cant contain more than full capacity\n",
    "                if volume[x] > capacity: \n",
    "                    volume[x] = capacity\n",
    "\n",
    "                if (volume[x] / capacity) * 100 < self.buffer: \n",
    "                    break\n",
    "\n",
    "                if x == end: \n",
    "                    isSatisfied = True \n",
    "\n",
    "                if capacity > 10000: \n",
    "                    capacity = -1\n",
    "\n",
    "        print(capacity)\n",
    "            \n",
    "\n",
    "    def water_balance(self, water):\n",
    "        balance = []\n",
    "        #TODO: change from zero to none (or equivilent), after fixing missing values as zero \n",
    "        for x in range(len(water)):\n",
    "            if water[x] == 0:\n",
    "                balance.append(0)\n",
    "            else:\n",
    "                balance.append(water[x] - self.water_need[x])\n",
    "        return balance\n",
    "\n",
    "\n",
    "\n",
    "        #day = list(range(len(r.amounts)))\n",
    "            \n",
    "\n",
    "\n"
   ]
  },
  {
   "cell_type": "code",
   "execution_count": 51,
   "metadata": {},
   "outputs": [
    {
     "name": "stdout",
     "output_type": "stream",
     "text": [
      "700\n"
     ]
    }
   ],
   "source": [
    "#data = pd.read_csv(r'C:\\Users\\Lucas\\Desktop\\Arbejde\\sekundavand\\Data\\preproccessing\\monthVols\\MonthData.csv', sep=';')\n",
    "data = pd.read_excel(r'C:\\Users\\Lucas\\Desktop\\Arbejde\\sekundavand\\Data\\proccessedData.xlsx')\n",
    "\n",
    "            #name,        data,              is_daily,  s_type,  capex, opex, rententate\n",
    "s1 = Source(\"Bruns Nord\", data[\"P1DailyVol\"]*0.45, True, \"floodwater\", 0, 0, [])\n",
    "s2 = Source(\"Normark\", data[\"P1DailyVol\"], True, \"floodwater\", 0, 0, [])\n",
    "s3 = Source(\"Sandholm\", data[\"P3DailyVol\"]*0.45, True, \"floodwater\", 0, 0, [])\n",
    "s4 = Source(\"Hovsøre\", data[\"P3DailyVol\"], True, \"floodwater\", 0, 0, [])\n",
    "s5 = Source(\"Plet Enge\", data[\"P3DailyVol\"], True, \"floodwater\", 0, 0, [])\n",
    "\n",
    "#    gen_cap, water_2_x, retention_fac, cap_fac, buffer         \n",
    "p2x = SP2X(500, 0.2, 0.65, 66, 30)\n",
    "\n",
    "\n",
    "p1 = Pool([s1, s2])\n",
    "\n",
    "p2x.analyse(p1)\n",
    "\n"
   ]
  },
  {
   "cell_type": "code",
   "execution_count": null,
   "metadata": {},
   "outputs": [],
   "source": [
    "\n",
    "\n"
   ]
  },
  {
   "cell_type": "code",
   "execution_count": null,
   "metadata": {},
   "outputs": [],
   "source": [
    "\n",
    "s1.info()\n",
    "\n"
   ]
  },
  {
   "cell_type": "code",
   "execution_count": null,
   "metadata": {},
   "outputs": [],
   "source": [
    "s1_s2 = Pool([s1, s2])\n",
    "\n",
    "\n"
   ]
  },
  {
   "cell_type": "code",
   "execution_count": null,
   "metadata": {},
   "outputs": [],
   "source": [
    "\n",
    "p2x.analyse(s1_s2)\n"
   ]
  },
  {
   "cell_type": "code",
   "execution_count": null,
   "metadata": {},
   "outputs": [],
   "source": [
    "s1_s2.info()"
   ]
  },
  {
   "cell_type": "code",
   "execution_count": null,
   "metadata": {},
   "outputs": [],
   "source": []
  }
 ],
 "metadata": {
  "kernelspec": {
   "display_name": "Python 3",
   "language": "python",
   "name": "python3"
  },
  "language_info": {
   "codemirror_mode": {
    "name": "ipython",
    "version": 3
   },
   "file_extension": ".py",
   "mimetype": "text/x-python",
   "name": "python",
   "nbconvert_exporter": "python",
   "pygments_lexer": "ipython3",
   "version": "3.7.4"
  }
 },
 "nbformat": 4,
 "nbformat_minor": 4
}
